{
 "cells": [
  {
   "cell_type": "markdown",
   "metadata": {},
   "source": [
    "# Answers to week 1 quiz and class\n",
    "\n",
    "## Quiz\n",
    "\n",
    "### Q1: For computing the nth Fibonacci number, the table method is O(n) and the matrix method is O(log(n)). Which method should you use to compute the first n Fibonacci numbers?\n",
    "\n",
    "The table method is better because you can compute $F(n)$ once and then just read off the other values. For the matrix method you'd need to recompute $F(k)$ for $k=1,\\ldots,n$ making it $O(n\\log n)$.\n",
    "\n",
    "### Q2: What is the first value of n where the analytic method stops working for computing the nth Fibonacci number (using 64 bit floats)?\n",
    "\n",
    "Here's one way to compute that:"
   ]
  },
  {
   "cell_type": "code",
   "execution_count": 1,
   "metadata": {},
   "outputs": [],
   "source": [
    "def F(n):\n",
    "    a = b = 1\n",
    "    for i in range(3, n+1):\n",
    "        a, b = b, a+b\n",
    "    return b"
   ]
  },
  {
   "cell_type": "code",
   "execution_count": 2,
   "metadata": {},
   "outputs": [],
   "source": [
    "def G(n):\n",
    "    phi = (1+5**.5)/2\n",
    "    return round((phi**n-(1-phi)**n)/5**.5)"
   ]
  },
  {
   "cell_type": "code",
   "execution_count": 3,
   "metadata": {},
   "outputs": [
    {
     "name": "stdout",
     "output_type": "stream",
     "text": [
      "71\n"
     ]
    }
   ],
   "source": [
    "for n in range(2, 100):\n",
    "    if F(n)!=G(n):\n",
    "        print(n)\n",
    "        break"
   ]
  },
  {
   "cell_type": "code",
   "execution_count": 4,
   "metadata": {},
   "outputs": [
    {
     "data": {
      "text/plain": [
       "(71, 308061521170129, 308061521170130)"
      ]
     },
     "execution_count": 4,
     "metadata": {},
     "output_type": "execute_result"
    }
   ],
   "source": [
    "n, F(n), G(n)"
   ]
  },
  {
   "cell_type": "markdown",
   "metadata": {},
   "source": [
    "### Q3: If M is a matrix, what is the smallest number of matrix multiplications you would need to compute M to the power of 27?\n",
    "\n",
    "You can compute it as:\n",
    "\n",
    "$M_1=M$\n",
    "\n",
    "$M_2=M*M$\n",
    "\n",
    "$M_3=M_2*M_2=M^4$\n",
    "\n",
    "$M_4=M_3*M_3=M^8$\n",
    "\n",
    "$M_5=M_4*M_1=M^9$\n",
    "\n",
    "$M_6=M_5*M_5=M^{18}$\n",
    "\n",
    "$M_7=M_6*M_5=M^{27}$\n",
    "\n",
    "This is a total of 6 matrix multiplications.\n",
    "\n",
    "Here's some code that shows this is the shortest solution. Exercise: how does this work?"
   ]
  },
  {
   "cell_type": "code",
   "execution_count": 5,
   "metadata": {},
   "outputs": [
    {
     "data": {
      "text/plain": [
       "frozenset({1, 2, 4, 8, 9, 18, 27})"
      ]
     },
     "execution_count": 5,
     "metadata": {},
     "output_type": "execute_result"
    }
   ],
   "source": [
    "def findbest():\n",
    "    processed = set()\n",
    "    unprocessed = set([frozenset([1])])\n",
    "    while len(unprocessed):\n",
    "        for x in list(unprocessed):\n",
    "            xs = sorted(list(x), reverse=True)\n",
    "            for a in xs:\n",
    "                for b in xs:\n",
    "                    y = x.union(frozenset([a+b]))\n",
    "                    if 27 in y:\n",
    "                        return y\n",
    "                    if y in processed or y in unprocessed:\n",
    "                        continue\n",
    "                    unprocessed.add(y)\n",
    "            processed.add(x)\n",
    "            unprocessed.remove(x)\n",
    "findbest()"
   ]
  },
  {
   "cell_type": "markdown",
   "metadata": {},
   "source": [
    "Note that there is a general solution that works for any $n$ based on the binary expansion of $n$.\n",
    "\n",
    "Consider $M^5$. Write it as $M^4\\times M^1 = (M^2)^2\\times M^1$. Note that in binary, $5=0b101=1\\cdot 2^2+0\\cdot2^1+1\\cdot 2^0$.\n",
    "\n",
    "Want to store the result as $y$, so start with $y=I$ the identity matrix. Start with $z=M^1$. We want to include this in final value for $y$ so we compute $y\\leftarrow y\\times z=M$. Now compute $z\\leftarrow z*z=M^2$. We don't want an $M^2$ term in $y$ so we just leave $y$ as it is. Now compute $z\\leftarrow z\\times z=M^4$. We do want the $M^4$ term in $y$ so we compute $y\\leftarrow y\\times z=M^1\\times M^4=M^5$ and we're done.\n",
    "\n",
    "Here's the code for that."
   ]
  },
  {
   "cell_type": "code",
   "execution_count": 14,
   "metadata": {},
   "outputs": [
    {
     "name": "stdout",
     "output_type": "stream",
     "text": [
      "[1, 1, 2, 3, 5, 8, 13, 21, 34]\n",
      "[1, 1, 2, 3, 5, 8, 13, 21, 34]\n"
     ]
    }
   ],
   "source": [
    "import numpy # library to do numerical computations\n",
    "\n",
    "def fib_matrix(n):\n",
    "    if n<=2:\n",
    "        return 1\n",
    "    n = n-1 # we only need M^(n-1) to compute F(n)\n",
    "    z = M = numpy.matrix([[1, 1], [1, 0]])\n",
    "    y = I = numpy.matrix([[1, 0], [0, 1]])\n",
    "    while n:\n",
    "        if n & 1: # extract last bit of n\n",
    "            y = y*M\n",
    "        n = n >> 1 # shift n to the right\n",
    "        M = M*M\n",
    "    return y[0, 0]\n",
    "\n",
    "print(list(map(fib_matrix, range(1, 10))))\n",
    "print(list(map(F, range(1, 10))))"
   ]
  },
  {
   "cell_type": "markdown",
   "metadata": {},
   "source": [
    "There at most $\\log_2 n$ nonzero bits in the binary representation of $n$ so it takes less than $\\log_2 n$ steps."
   ]
  },
  {
   "cell_type": "markdown",
   "metadata": {},
   "source": [
    "## Class\n",
    "\n",
    "The class was to time these functions. I won't write the C++ code for that, but here's some Python code for it."
   ]
  },
  {
   "cell_type": "code",
   "execution_count": 7,
   "metadata": {},
   "outputs": [],
   "source": [
    "import math\n",
    "import numpy\n",
    "\n",
    "def fib_recurse(n):\n",
    "    if n<=2:\n",
    "        return 1\n",
    "    else:\n",
    "        return fib_recurse(n-1)+fib_recurse(n-2)\n",
    "    \n",
    "def fib_analytic(n):\n",
    "    phi = (1+5**.5)/2\n",
    "    return int((phi**n-(1-phi)**n)/5**.5)\n",
    "\n",
    "def fib_array(n):\n",
    "    f = numpy.ones(n+1, dtype=numpy.int64) \n",
    "    # Python numpy. ones() function returns a new array of given shape and data type, where the element's value is set to 1. This function is very similar to numpy zeros() function.\n",
    "    for i in range(3, n+1):\n",
    "        f[i] = f[i-1]+f[i-2]\n",
    "    return f[n]\n",
    "\n",
    "def fib_iter(n):\n",
    "    a = b = 1\n",
    "    for i in range(3, n+1):\n",
    "        a, b = b, a+b\n",
    "    return b"
   ]
  },
  {
   "cell_type": "code",
   "execution_count": 8,
   "metadata": {},
   "outputs": [
    {
     "data": {
      "image/png": "[encoded data removed]",
      "text/plain": [
       "<Figure size 640x480 with 1 Axes>"
      ]
     },
     "metadata": {},
     "output_type": "display_data"
    }
   ],
   "source": [
    "import matplotlib.pyplot as plt\n",
    "import time\n",
    "\n",
    "def timer(func, n, until=.1):\n",
    "    start_time = time.time()\n",
    "    repeats = 0\n",
    "    while time.time()-start_time<until:\n",
    "        func(n)\n",
    "        repeats += 1\n",
    "    return (time.time()-start_time)/repeats\n",
    "\n",
    "for f, Nmax in [(fib_recurse, 32),\n",
    "                (fib_analytic, 71),\n",
    "                (fib_array, 90),\n",
    "                (fib_iter, 90)]:\n",
    "                # (fib_matrix, 90)]:\n",
    "    N = list(range(1, Nmax+1))\n",
    "    plt.semilogy(N, list(map(lambda n: timer(f, n), N)), label=f.__name__);\n",
    "plt.ylabel('Time (s)')\n",
    "plt.xlabel('n')\n",
    "plt.legend(loc='upper left');"
   ]
  }
 ],
 "metadata": {
  "kernelspec": {
   "display_name": "Python 3.10.8 64-bit (microsoft store)",
   "language": "python",
   "name": "python3"
  },
  "language_info": {
   "codemirror_mode": {
    "name": "ipython",
    "version": 3
   },
   "file_extension": ".py",
   "mimetype": "text/x-python",
   "name": "python",
   "nbconvert_exporter": "python",
   "pygments_lexer": "ipython3",
   "version": "3.10.8"
  },
  "vscode": {
   "interpreter": {
    "hash": "c7d9d4a7a31fb789a888efa752d27d44160a0445d524aaaa852efacd23fb5b8c"
   }
  }
 },
 "nbformat": 4,
 "nbformat_minor": 4
}
