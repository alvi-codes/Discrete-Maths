{
 "cells": [
  {
   "cell_type": "markdown",
   "id": "b255223f",
   "metadata": {},
   "source": [
    "# Week 2 class\n",
    "\n",
    "This week is a coding challenge. The task is to write code to convert between two \"sparse matrix\" formats.\n",
    "\n",
    "A sparse matrix is a matrix in which most entries are zero, and therefore you only store the non-zero entries and save space.\n",
    "\n",
    "The input is two arrays ``u`` and ``v`` of the same length, so that the matrix ``M`` is zero everywhere except ``M[u[i], v[i]] = 1`` for each ``i``. For example, if ``u = [0, 1]`` and ``v = [3, 2]`` and the matrix is 4x4 then:\n",
    "\n",
    "$$M=\\begin{pmatrix}\n",
    "0 & 0 & 0 & 1 \\\\\n",
    "0 & 0 & 1 & 0 \\\\\n",
    "0 & 0 & 0 & 0 \\\\\n",
    "0 & 0 & 0 & 0\n",
    "\\end{pmatrix}$$\n",
    "\n",
    "The task is to convert that into the **compressed sparse row format** (CSR). In the CSR you have an array of rows, where each row array is the column indices for that row. That is, ``row[i]`` is an array of values so that for all ``j`` in ``row[i]``, ``M[i, j]=1``. For the example above, we would have the following in Python:"
   ]
  },
  {
   "cell_type": "code",
   "execution_count": 13,
   "id": "1d2f78c3",
   "metadata": {},
   "outputs": [],
   "source": [
    "row = [\n",
    "    [3],\n",
    "    [2],\n",
    "    [],\n",
    "    []\n",
    "]"
   ]
  },
  {
   "cell_type": "markdown",
   "id": "1aeb0c8f",
   "metadata": {},
   "source": [
    "Write your code, and check that it gives the correct solution for the following input (assuming 4x4 matrix):"
   ]
  },
  {
   "cell_type": "code",
   "execution_count": 14,
   "id": "60f2ed69",
   "metadata": {},
   "outputs": [
    {
     "name": "stdout",
     "output_type": "stream",
     "text": [
      "10\n"
     ]
    },
    {
     "ename": "IndexError",
     "evalue": "list index out of range",
     "output_type": "error",
     "traceback": [
      "\u001b[1;31m---------------------------------------------------------------------------\u001b[0m",
      "\u001b[1;31mIndexError\u001b[0m                                Traceback (most recent call last)",
      "Cell \u001b[1;32mIn [14], line 19\u001b[0m\n\u001b[0;32m     16\u001b[0m \u001b[39mprint\u001b[39m(size)\n\u001b[0;32m     18\u001b[0m \u001b[39mfor\u001b[39;00m i \u001b[39min\u001b[39;00m \u001b[39mrange\u001b[39m(size):\n\u001b[1;32m---> 19\u001b[0m     row[u[i]]\u001b[39m.\u001b[39mappend(v[i])\n\u001b[0;32m     21\u001b[0m \u001b[39mprint\u001b[39m(row)\n\u001b[0;32m     24\u001b[0m \u001b[39m#END\u001b[39;00m\n",
      "\u001b[1;31mIndexError\u001b[0m: list index out of range"
     ]
    }
   ],
   "source": [
    "u = [0, 1, 2, 3, 0, 1, 2, 3, 2, 1]\n",
    "v = [1, 3, 0, 1, 2, 1, 2, 2, 1, 2]\n",
    "\n",
    "correct_solution = [\n",
    "    [1, 2],\n",
    "    [3, 1, 2],\n",
    "    [0, 2, 1],\n",
    "    [1, 2]\n",
    "]\n",
    "\n",
    "#START\n",
    "\n",
    "row = []*(max(u)+1)\n",
    "\n",
    "size = len(u)\n",
    "print(size)\n",
    "\n",
    "for i in range(size):\n",
    "    row[u[i]].append(v[i])\n",
    "    print(row[u[i]].append(v[i]))\n",
    "print(row)\n",
    "\n",
    "\n",
    "#END\n",
    "\n",
    "\n",
    "\n",
    "\n",
    "\n",
    "\n",
    "\n",
    "def solution_is_correct(row):\n",
    "    if len(row)!=4:\n",
    "        return False\n",
    "    for i in range(4):\n",
    "        if len(row[i])!=len(correct_solution[i]):\n",
    "            return False\n",
    "        x = sorted(row[i])\n",
    "        y = sorted(correct_solution[i])\n",
    "        if any(x[j]!=y[j] for j in range(len(x))):\n",
    "            return False\n",
    "    return True\n",
    "\n",
    "print(solution_is_correct(correct_solution))"
   ]
  },
  {
   "cell_type": "markdown",
   "id": "75ca29f6",
   "metadata": {},
   "source": [
    "## C++ version\n",
    "\n",
    "Here is a C++ version of the code to start from if you prefer:\n",
    "\n",
    "```C++\n",
    "#include<iostream>\n",
    "#include<vector>\n",
    "\n",
    "using namespace std;\n",
    "\n",
    "int main()\n",
    "{\n",
    "    vector<int> u{ 0, 1, 2, 3, 0, 1, 2, 3, 2, 1 };\n",
    "    vector<int> v{ 1, 3, 0, 1, 2, 1, 2, 2, 1, 2 };\n",
    "\n",
    "    vector< vector<int> > row;\n",
    "    // fill in your solution here\n",
    "\n",
    "\n",
    "    // check solution\n",
    "    vector<int> row0 { 1, 2 };\n",
    "    vector<int> row1 { 3, 1, 2 };\n",
    "    vector<int> row2 { 0, 2, 1 };\n",
    "    vector<int> row3 { 1, 2 };\n",
    "    vector< vector<int> > soln { row0, row1, row2, row3 };\n",
    "    bool all_good = true;\n",
    "    if(row.size()!=soln.size())\n",
    "    {\n",
    "        all_good = false;\n",
    "    } else \n",
    "    {\n",
    "        for(int i=0; i<4; i++)\n",
    "        {\n",
    "            if(row[i].size()!=soln[i].size())\n",
    "            {\n",
    "                all_good = false;\n",
    "                break;\n",
    "            }\n",
    "            for(int j=0; j<row[i].size(); j++)\n",
    "            {\n",
    "                if(row[i][j]!=soln[i][j])\n",
    "                {\n",
    "                    all_good = false;\n",
    "                    break;\n",
    "                }\n",
    "            }\n",
    "            if(!all_good) break;\n",
    "        }\n",
    "    }\n",
    "    if(all_good)\n",
    "    {\n",
    "        cout << \"Working solution!\" << endl;\n",
    "    } else\n",
    "    {\n",
    "        cout << \"Not right.\" << endl;\n",
    "    }\n",
    "\treturn 0;\n",
    "}\n",
    "```"
   ]
  }
 ],
 "metadata": {
  "kernelspec": {
   "display_name": "Python 3.10.8 64-bit (microsoft store)",
   "language": "python",
   "name": "python3"
  },
  "language_info": {
   "codemirror_mode": {
    "name": "ipython",
    "version": 3
   },
   "file_extension": ".py",
   "mimetype": "text/x-python",
   "name": "python",
   "nbconvert_exporter": "python",
   "pygments_lexer": "ipython3",
   "version": "3.10.8"
  },
  "vscode": {
   "interpreter": {
    "hash": "c7d9d4a7a31fb789a888efa752d27d44160a0445d524aaaa852efacd23fb5b8c"
   }
  }
 },
 "nbformat": 4,
 "nbformat_minor": 5
}
